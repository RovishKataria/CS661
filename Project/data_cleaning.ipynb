{
 "cells": [
  {
   "cell_type": "code",
   "execution_count": 10,
   "metadata": {},
   "outputs": [],
   "source": [
    "import pandas as pd\n",
    "import matplotlib.pyplot as plt"
   ]
  },
  {
   "cell_type": "code",
   "execution_count": null,
   "metadata": {},
   "outputs": [],
   "source": [
    "# covax = pd.read_csv(\"Datasets\\covax.csv\")\n",
    "# excess_mortality_economist = pd.read_csv(\"Datasets\\excess_mortality_economist.csv\")\n",
    "# excess_mortality = pd.read_csv(\"Datasets\\excess_mortality.csv\")\n",
    "# hospital = pd.read_csv(\"Datasets\\hospital.csv\")\n",
    "# tracking_r = pd.read_csv(\"Datasets\\\\tracking_r.csv\")\n",
    "# vaccinations_age = pd.read_csv(\"Datasets\\\\vaccinations_age.csv\")\n",
    "# vaccinations_manufacturer = pd.read_csv(\"Datasets\\\\vaccinations_manufacturer.csv\")\n",
    "# vaccinations_us = pd.read_csv(\"Datasets\\\\vaccinations_us.csv\")\n",
    "# yougov_composite = pd.read_csv(\"Datasets\\yougov_composite.csv\")"
   ]
  },
  {
   "cell_type": "markdown",
   "metadata": {},
   "source": [
    "countries.csv"
   ]
  },
  {
   "cell_type": "code",
   "execution_count": 2,
   "metadata": {},
   "outputs": [],
   "source": [
    "countries = pd.read_csv(\"Datasets\\countries.csv\")"
   ]
  },
  {
   "cell_type": "code",
   "execution_count": 5,
   "metadata": {},
   "outputs": [
    {
     "name": "stdout",
     "output_type": "stream",
     "text": [
      "<class 'pandas.core.frame.DataFrame'>\n",
      "RangeIndex: 250 entries, 0 to 249\n",
      "Data columns (total 4 columns):\n",
      " #   Column     Non-Null Count  Dtype  \n",
      "---  ------     --------------  -----  \n",
      " 0   country    250 non-null    object \n",
      " 1   isocode    250 non-null    object \n",
      " 2   latitude   250 non-null    float64\n",
      " 3   longitude  250 non-null    float64\n",
      "dtypes: float64(2), object(2)\n",
      "memory usage: 7.9+ KB\n"
     ]
    }
   ],
   "source": [
    "countries.info()"
   ]
  },
  {
   "cell_type": "code",
   "execution_count": 4,
   "metadata": {},
   "outputs": [],
   "source": [
    "# country - To merge datasets\n",
    "# isocode - Standard country identifier\n",
    "# latitude, longitude - Useful for mapping mobility trends geographically\n",
    "\n",
    "# countries has some missing values in isocode, fill them with 0\n",
    "countries['isocode'] = countries['isocode'].fillna(0)\n"
   ]
  },
  {
   "cell_type": "markdown",
   "metadata": {},
   "source": [
    "google_mobility.csv"
   ]
  },
  {
   "cell_type": "code",
   "execution_count": 16,
   "metadata": {},
   "outputs": [],
   "source": [
    "google_mobility = pd.read_csv(\"Datasets\\google_mobility.csv\")"
   ]
  },
  {
   "cell_type": "code",
   "execution_count": 22,
   "metadata": {},
   "outputs": [
    {
     "name": "stdout",
     "output_type": "stream",
     "text": [
      "<class 'pandas.core.frame.DataFrame'>\n",
      "RangeIndex: 784944 entries, 0 to 784943\n",
      "Data columns (total 3 columns):\n",
      " #   Column   Non-Null Count   Dtype         \n",
      "---  ------   --------------   -----         \n",
      " 0   country  784944 non-null  object        \n",
      " 1   date     784944 non-null  datetime64[ns]\n",
      " 2   trend    784944 non-null  float64       \n",
      "dtypes: datetime64[ns](1), float64(1), object(1)\n",
      "memory usage: 18.0+ MB\n"
     ]
    }
   ],
   "source": [
    "google_mobility.info()"
   ]
  },
  {
   "cell_type": "code",
   "execution_count": null,
   "metadata": {},
   "outputs": [],
   "source": [
    "# country - To merge with other datasets\n",
    "# date - To analyze trends over time\n",
    "# trend - % change in mobility (main focus)\n",
    "google_mobility = google_mobility.drop(columns=['place'])"
   ]
  },
  {
   "cell_type": "code",
   "execution_count": null,
   "metadata": {},
   "outputs": [],
   "source": [
    "google_mobility[\"date\"] = pd.to_datetime(google_mobility[\"date\"])\n"
   ]
  },
  {
   "cell_type": "code",
   "execution_count": 19,
   "metadata": {},
   "outputs": [
    {
     "data": {
      "image/png": "[encoded data removed]",
      "text/plain": [
       "<Figure size 640x480 with 1 Axes>"
      ]
     },
     "metadata": {},
     "output_type": "display_data"
    }
   ],
   "source": [
    "plt.hist(google_mobility['trend'].dropna(), bins=50, edgecolor='black')\n",
    "plt.title(\"Distribution of Mobility Trend (Before Filling Missing Values)\")\n",
    "plt.xlabel(\"Trend (%)\")\n",
    "plt.ylabel(\"Frequency\")\n",
    "plt.show()"
   ]
  },
  {
   "cell_type": "code",
   "execution_count": 20,
   "metadata": {},
   "outputs": [
    {
     "name": "stdout",
     "output_type": "stream",
     "text": [
      "Skewness: 2.4663868255207926\n",
      "Kurtosis: 13.928719414682966\n"
     ]
    }
   ],
   "source": [
    "# FRom this histogram we can see that it is right skewed (long tail on right).\n",
    "# Also most values are centered arond zero, the extreme values (outliers) are on right.\n",
    "from scipy.stats import skew, kurtosis\n",
    "\n",
    "skewness = skew(google_mobility['trend'].dropna())\n",
    "kurt = kurtosis(google_mobility['trend'].dropna())\n",
    "\n",
    "print(\"Skewness:\", skewness)\n",
    "print(\"Kurtosis:\", kurt)\n",
    "\n",
    "# skewness is > 1 means highly skewed\n",
    "# kurtosis is > 3 means high peak & heavy tails are present (outliers)"
   ]
  },
  {
   "cell_type": "code",
   "execution_count": 21,
   "metadata": {},
   "outputs": [],
   "source": [
    "# since data is highly skewed using mean is not good idea\n",
    "# So we will use median bcoz it is robust to outliers\n",
    "google_mobility['trend'] = google_mobility['trend'].fillna(google_mobility['trend'].median())"
   ]
  },
  {
   "cell_type": "markdown",
   "metadata": {},
   "source": [
    "oxcgrt_policy.csv"
   ]
  },
  {
   "cell_type": "code",
   "execution_count": 28,
   "metadata": {},
   "outputs": [],
   "source": [
    "oxcgrt_policy = pd.read_csv(\"Datasets\\oxcgrt_policy.csv\")"
   ]
  },
  {
   "cell_type": "code",
   "execution_count": 31,
   "metadata": {},
   "outputs": [
    {
     "name": "stdout",
     "output_type": "stream",
     "text": [
      "<class 'pandas.core.frame.DataFrame'>\n",
      "RangeIndex: 202760 entries, 0 to 202759\n",
      "Data columns (total 15 columns):\n",
      " #   Column                                 Non-Null Count   Dtype         \n",
      "---  ------                                 --------------   -----         \n",
      " 0   country                                202760 non-null  object        \n",
      " 1   date                                   202760 non-null  datetime64[ns]\n",
      " 2   c1m_school_closing                     202760 non-null  int64         \n",
      " 3   c2m_workplace_closing                  202760 non-null  int64         \n",
      " 4   c3m_cancel_public_events               202760 non-null  int64         \n",
      " 5   c4m_restrictions_on_gatherings         202760 non-null  int64         \n",
      " 6   c5m_close_public_transport             202760 non-null  int64         \n",
      " 7   c6m_stay_at_home_requirements          202760 non-null  int64         \n",
      " 8   c7m_restrictions_on_internal_movement  202760 non-null  int64         \n",
      " 9   c8ev_international_travel_controls     202760 non-null  int64         \n",
      " 10  stringency_index                       202760 non-null  float64       \n",
      " 11  containment_health_index               202760 non-null  float64       \n",
      " 12  stringency_index_nonvax                202760 non-null  float64       \n",
      " 13  stringency_index_vax                   202760 non-null  float64       \n",
      " 14  stringency_index_weighted_average      202760 non-null  float64       \n",
      "dtypes: datetime64[ns](1), float64(5), int64(8), object(1)\n",
      "memory usage: 23.2+ MB\n"
     ]
    }
   ],
   "source": [
    "oxcgrt_policy.info()"
   ]
  },
  {
   "cell_type": "code",
   "execution_count": null,
   "metadata": {},
   "outputs": [],
   "source": [
    "# country = To merge datasets.\n",
    "# date = To track lockdown policy changes.\n",
    "# c1m_school_closing = School closure impact on mobility.\n",
    "# c2m_workplace_closing = Work-from-home effect on mobility.\n",
    "# c3m_cancel_public_events = Public event cancellations.\n",
    "# c4m_restrictions_on_gatherings = Gathering restrictions.\n",
    "# c5m_close_public_transport = Public transport restrictions.\n",
    "# c6m_stay_at_home_requirements = Strictness of stay-at-home policies.\n",
    "# c7m_restrictions_on_internal_movement = Internal travel restrictions.\n",
    "# c8ev_international_travel_controls\tGlobal travel restrictions.\n",
    "# stringency_index = Measures lockdown strictness (important for correlation).\n",
    "# containment_health_index = Measures containment measures (important for correlation).\n",
    "# stringency_index_nonvax = Measures lockdown strictness (important for correlation).\n",
    "# stringency_index_vax = Measures lockdown strictness (important for correlation).\n",
    "# stringency_index_weighted_average = Measures lockdown strictness (important for correlation).\n",
    "oxcgrt_policy = oxcgrt_policy.drop(columns=[\n",
    "    'e1_income_support', 'e2_debt_contract_relief', 'e3_fiscal_measures', 'e4_international_support',\n",
    "    'h1_public_information_campaigns', 'h2_testing_policy', 'h3_contact_tracing', 'h4_emergency_investment_in_healthcare',\n",
    "    'h5_investment_in_vaccines', 'h6m_facial_coverings', 'h7_vaccination_policy',\n",
    "    'v2a_vaccine_availability__summary', 'v2b_vaccine_age_eligibility_availability_age_floor__general_population_summary',\n",
    "    'v2c_vaccine_age_eligibility_availability_age_floor__at_risk_summary', 'v2_vaccine_availability__summary', 'v2_pregnant_people',\n",
    "])"
   ]
  },
  {
   "cell_type": "code",
   "execution_count": null,
   "metadata": {},
   "outputs": [
    {
     "name": "stderr",
     "output_type": "stream",
     "text": [
      "C:\\Users\\Rovish\\AppData\\Local\\Temp\\ipykernel_10328\\1344722391.py:26: FutureWarning: Series.fillna with 'method' is deprecated and will raise in a future version. Use obj.ffill() or obj.bfill() instead.\n",
      "  oxcgrt_policy[\"stringency_index_weighted_average\"] = oxcgrt_policy[\"stringency_index_weighted_average\"].fillna(method=\"ffill\")\n"
     ]
    }
   ],
   "source": [
    "oxcgrt_policy[\"date\"] = pd.to_datetime(oxcgrt_policy[\"date\"])\n",
    "# Use this only if the filled value doesn't distort analysis. Always explain this choice in your report.\n",
    "oxcgrt_policy[\"stringency_index_weighted_average\"] = oxcgrt_policy[\"stringency_index_weighted_average\"].ffill()\n"
   ]
  },
  {
   "cell_type": "markdown",
   "metadata": {},
   "source": [
    "spread.csv"
   ]
  },
  {
   "cell_type": "code",
   "execution_count": 32,
   "metadata": {},
   "outputs": [],
   "source": [
    "spread = pd.read_csv(\"Datasets\\spread.csv\")"
   ]
  },
  {
   "cell_type": "code",
   "execution_count": 35,
   "metadata": {},
   "outputs": [
    {
     "name": "stdout",
     "output_type": "stream",
     "text": [
      "<class 'pandas.core.frame.DataFrame'>\n",
      "Index: 364500 entries, 0 to 364748\n",
      "Data columns (total 8 columns):\n",
      " #   Column                    Non-Null Count   Dtype         \n",
      "---  ------                    --------------   -----         \n",
      " 0   country                   364500 non-null  object        \n",
      " 1   date                      364500 non-null  datetime64[ns]\n",
      " 2   new_cases                 364500 non-null  float64       \n",
      " 3   new_deaths                364500 non-null  float64       \n",
      " 4   new_cases_per_million     364500 non-null  float64       \n",
      " 5   total_cases_per_million   364500 non-null  float64       \n",
      " 6   new_deaths_per_million    364500 non-null  float64       \n",
      " 7   total_deaths_per_million  364500 non-null  float64       \n",
      "dtypes: datetime64[ns](1), float64(6), object(1)\n",
      "memory usage: 25.0+ MB\n"
     ]
    }
   ],
   "source": [
    "spread.info()"
   ]
  },
  {
   "cell_type": "code",
   "execution_count": null,
   "metadata": {},
   "outputs": [],
   "source": [
    "# country = To merge with mobility data.\n",
    "# date = To track cases over time.\n",
    "# new_cases = To analyze correlation between cases & mobility.\n",
    "# new_deaths = To check if deaths affected movement.\n",
    "# new_cases_per_million = Useful for country-wise comparison.\n",
    "# total_cases_per_million = to compare broader impact.\n",
    "# new_deaths_per_million = To compare severity across countries.\n",
    "# total_deaths_per_million = to compare broader impact.\n",
    "spread = spread.drop(columns=['total_cases', 'total_deaths', 'latititude', 'longitude', 'isocode'])"
   ]
  },
  {
   "cell_type": "code",
   "execution_count": null,
   "metadata": {},
   "outputs": [],
   "source": [
    "spread[\"date\"] = pd.to_datetime(spread[\"date\"])\n",
    "spread = spread[(spread['date'].dt.year < 2024)]"
   ]
  },
  {
   "cell_type": "markdown",
   "metadata": {},
   "source": [
    "testing.csv"
   ]
  },
  {
   "cell_type": "code",
   "execution_count": 36,
   "metadata": {},
   "outputs": [],
   "source": [
    "testing = pd.read_csv(\"Datasets\\\\testing.csv\")"
   ]
  },
  {
   "cell_type": "code",
   "execution_count": 42,
   "metadata": {},
   "outputs": [
    {
     "name": "stdout",
     "output_type": "stream",
     "text": [
      "<class 'pandas.core.frame.DataFrame'>\n",
      "Index: 95919 entries, 146 to 106787\n",
      "Data columns (total 5 columns):\n",
      " #   Column                  Non-Null Count  Dtype         \n",
      "---  ------                  --------------  -----         \n",
      " 0   country                 95919 non-null  object        \n",
      " 1   date                    95919 non-null  datetime64[ns]\n",
      " 2   total_tests             95919 non-null  float64       \n",
      " 3   new_tests               95919 non-null  float64       \n",
      " 4   new_tests_per_thousand  95919 non-null  float64       \n",
      "dtypes: datetime64[ns](1), float64(3), object(1)\n",
      "memory usage: 4.4+ MB\n"
     ]
    }
   ],
   "source": [
    "testing.info()"
   ]
  },
  {
   "cell_type": "code",
   "execution_count": null,
   "metadata": {},
   "outputs": [],
   "source": [
    "# country = To merge datasets.\n",
    "# date = To track testing over time.\n",
    "# total_tests = Higher testing might lead to increased mobility.\n",
    "# new_tests = Check if mobility increased as more tests were conducted.\n",
    "# new_tests_per_thousand = Country-wise comparison.\n",
    "testing = testing.drop(columns=['total_tests_per_thousand', 'new_tests_7day_smoothed', 'new_tests_per_thousand_7day_smoothed'])"
   ]
  },
  {
   "cell_type": "code",
   "execution_count": null,
   "metadata": {},
   "outputs": [],
   "source": [
    "testing[\"date\"] = pd.to_datetime(testing[\"date\"])"
   ]
  },
  {
   "cell_type": "code",
   "execution_count": 40,
   "metadata": {},
   "outputs": [
    {
     "name": "stdout",
     "output_type": "stream",
     "text": [
      "new_tests_per_thousand    29.390006\n",
      "new_tests                 29.390006\n",
      "total_tests               25.659250\n",
      "country                    0.000000\n",
      "date                       0.000000\n",
      "dtype: float64\n"
     ]
    }
   ],
   "source": [
    "missing_percentage = testing.isnull().sum() / len(testing) * 100\n",
    "print(missing_percentage.sort_values(ascending=False))"
   ]
  },
  {
   "cell_type": "code",
   "execution_count": 41,
   "metadata": {},
   "outputs": [
    {
     "name": "stderr",
     "output_type": "stream",
     "text": [
      "d:\\MTech Courses\\Sem 2\\CS661\\Project\\.venv\\lib\\site-packages\\numpy\\lib\\_nanfunctions_impl.py:1215: RuntimeWarning: Mean of empty slice\n",
      "  return np.nanmean(a, axis, out=out, keepdims=keepdims)\n",
      "d:\\MTech Courses\\Sem 2\\CS661\\Project\\.venv\\lib\\site-packages\\numpy\\lib\\_nanfunctions_impl.py:1215: RuntimeWarning: Mean of empty slice\n",
      "  return np.nanmean(a, axis, out=out, keepdims=keepdims)\n",
      "d:\\MTech Courses\\Sem 2\\CS661\\Project\\.venv\\lib\\site-packages\\numpy\\lib\\_nanfunctions_impl.py:1215: RuntimeWarning: Mean of empty slice\n",
      "  return np.nanmean(a, axis, out=out, keepdims=keepdims)\n",
      "d:\\MTech Courses\\Sem 2\\CS661\\Project\\.venv\\lib\\site-packages\\numpy\\lib\\_nanfunctions_impl.py:1215: RuntimeWarning: Mean of empty slice\n",
      "  return np.nanmean(a, axis, out=out, keepdims=keepdims)\n",
      "d:\\MTech Courses\\Sem 2\\CS661\\Project\\.venv\\lib\\site-packages\\numpy\\lib\\_nanfunctions_impl.py:1215: RuntimeWarning: Mean of empty slice\n",
      "  return np.nanmean(a, axis, out=out, keepdims=keepdims)\n",
      "d:\\MTech Courses\\Sem 2\\CS661\\Project\\.venv\\lib\\site-packages\\numpy\\lib\\_nanfunctions_impl.py:1215: RuntimeWarning: Mean of empty slice\n",
      "  return np.nanmean(a, axis, out=out, keepdims=keepdims)\n",
      "d:\\MTech Courses\\Sem 2\\CS661\\Project\\.venv\\lib\\site-packages\\numpy\\lib\\_nanfunctions_impl.py:1215: RuntimeWarning: Mean of empty slice\n",
      "  return np.nanmean(a, axis, out=out, keepdims=keepdims)\n",
      "d:\\MTech Courses\\Sem 2\\CS661\\Project\\.venv\\lib\\site-packages\\numpy\\lib\\_nanfunctions_impl.py:1215: RuntimeWarning: Mean of empty slice\n",
      "  return np.nanmean(a, axis, out=out, keepdims=keepdims)\n",
      "d:\\MTech Courses\\Sem 2\\CS661\\Project\\.venv\\lib\\site-packages\\numpy\\lib\\_nanfunctions_impl.py:1215: RuntimeWarning: Mean of empty slice\n",
      "  return np.nanmean(a, axis, out=out, keepdims=keepdims)\n",
      "d:\\MTech Courses\\Sem 2\\CS661\\Project\\.venv\\lib\\site-packages\\numpy\\lib\\_nanfunctions_impl.py:1215: RuntimeWarning: Mean of empty slice\n",
      "  return np.nanmean(a, axis, out=out, keepdims=keepdims)\n",
      "d:\\MTech Courses\\Sem 2\\CS661\\Project\\.venv\\lib\\site-packages\\numpy\\lib\\_nanfunctions_impl.py:1215: RuntimeWarning: Mean of empty slice\n",
      "  return np.nanmean(a, axis, out=out, keepdims=keepdims)\n",
      "d:\\MTech Courses\\Sem 2\\CS661\\Project\\.venv\\lib\\site-packages\\numpy\\lib\\_nanfunctions_impl.py:1215: RuntimeWarning: Mean of empty slice\n",
      "  return np.nanmean(a, axis, out=out, keepdims=keepdims)\n",
      "d:\\MTech Courses\\Sem 2\\CS661\\Project\\.venv\\lib\\site-packages\\numpy\\lib\\_nanfunctions_impl.py:1215: RuntimeWarning: Mean of empty slice\n",
      "  return np.nanmean(a, axis, out=out, keepdims=keepdims)\n",
      "d:\\MTech Courses\\Sem 2\\CS661\\Project\\.venv\\lib\\site-packages\\numpy\\lib\\_nanfunctions_impl.py:1215: RuntimeWarning: Mean of empty slice\n",
      "  return np.nanmean(a, axis, out=out, keepdims=keepdims)\n",
      "d:\\MTech Courses\\Sem 2\\CS661\\Project\\.venv\\lib\\site-packages\\numpy\\lib\\_nanfunctions_impl.py:1215: RuntimeWarning: Mean of empty slice\n",
      "  return np.nanmean(a, axis, out=out, keepdims=keepdims)\n",
      "d:\\MTech Courses\\Sem 2\\CS661\\Project\\.venv\\lib\\site-packages\\numpy\\lib\\_nanfunctions_impl.py:1215: RuntimeWarning: Mean of empty slice\n",
      "  return np.nanmean(a, axis, out=out, keepdims=keepdims)\n",
      "d:\\MTech Courses\\Sem 2\\CS661\\Project\\.venv\\lib\\site-packages\\numpy\\lib\\_nanfunctions_impl.py:1215: RuntimeWarning: Mean of empty slice\n",
      "  return np.nanmean(a, axis, out=out, keepdims=keepdims)\n",
      "d:\\MTech Courses\\Sem 2\\CS661\\Project\\.venv\\lib\\site-packages\\numpy\\lib\\_nanfunctions_impl.py:1215: RuntimeWarning: Mean of empty slice\n",
      "  return np.nanmean(a, axis, out=out, keepdims=keepdims)\n",
      "d:\\MTech Courses\\Sem 2\\CS661\\Project\\.venv\\lib\\site-packages\\numpy\\lib\\_nanfunctions_impl.py:1215: RuntimeWarning: Mean of empty slice\n",
      "  return np.nanmean(a, axis, out=out, keepdims=keepdims)\n",
      "d:\\MTech Courses\\Sem 2\\CS661\\Project\\.venv\\lib\\site-packages\\numpy\\lib\\_nanfunctions_impl.py:1215: RuntimeWarning: Mean of empty slice\n",
      "  return np.nanmean(a, axis, out=out, keepdims=keepdims)\n",
      "d:\\MTech Courses\\Sem 2\\CS661\\Project\\.venv\\lib\\site-packages\\numpy\\lib\\_nanfunctions_impl.py:1215: RuntimeWarning: Mean of empty slice\n",
      "  return np.nanmean(a, axis, out=out, keepdims=keepdims)\n",
      "d:\\MTech Courses\\Sem 2\\CS661\\Project\\.venv\\lib\\site-packages\\numpy\\lib\\_nanfunctions_impl.py:1215: RuntimeWarning: Mean of empty slice\n",
      "  return np.nanmean(a, axis, out=out, keepdims=keepdims)\n",
      "d:\\MTech Courses\\Sem 2\\CS661\\Project\\.venv\\lib\\site-packages\\numpy\\lib\\_nanfunctions_impl.py:1215: RuntimeWarning: Mean of empty slice\n",
      "  return np.nanmean(a, axis, out=out, keepdims=keepdims)\n",
      "d:\\MTech Courses\\Sem 2\\CS661\\Project\\.venv\\lib\\site-packages\\numpy\\lib\\_nanfunctions_impl.py:1215: RuntimeWarning: Mean of empty slice\n",
      "  return np.nanmean(a, axis, out=out, keepdims=keepdims)\n",
      "d:\\MTech Courses\\Sem 2\\CS661\\Project\\.venv\\lib\\site-packages\\numpy\\lib\\_nanfunctions_impl.py:1215: RuntimeWarning: Mean of empty slice\n",
      "  return np.nanmean(a, axis, out=out, keepdims=keepdims)\n",
      "d:\\MTech Courses\\Sem 2\\CS661\\Project\\.venv\\lib\\site-packages\\numpy\\lib\\_nanfunctions_impl.py:1215: RuntimeWarning: Mean of empty slice\n",
      "  return np.nanmean(a, axis, out=out, keepdims=keepdims)\n",
      "d:\\MTech Courses\\Sem 2\\CS661\\Project\\.venv\\lib\\site-packages\\numpy\\lib\\_nanfunctions_impl.py:1215: RuntimeWarning: Mean of empty slice\n",
      "  return np.nanmean(a, axis, out=out, keepdims=keepdims)\n",
      "d:\\MTech Courses\\Sem 2\\CS661\\Project\\.venv\\lib\\site-packages\\numpy\\lib\\_nanfunctions_impl.py:1215: RuntimeWarning: Mean of empty slice\n",
      "  return np.nanmean(a, axis, out=out, keepdims=keepdims)\n",
      "d:\\MTech Courses\\Sem 2\\CS661\\Project\\.venv\\lib\\site-packages\\numpy\\lib\\_nanfunctions_impl.py:1215: RuntimeWarning: Mean of empty slice\n",
      "  return np.nanmean(a, axis, out=out, keepdims=keepdims)\n",
      "d:\\MTech Courses\\Sem 2\\CS661\\Project\\.venv\\lib\\site-packages\\numpy\\lib\\_nanfunctions_impl.py:1215: RuntimeWarning: Mean of empty slice\n",
      "  return np.nanmean(a, axis, out=out, keepdims=keepdims)\n",
      "d:\\MTech Courses\\Sem 2\\CS661\\Project\\.venv\\lib\\site-packages\\numpy\\lib\\_nanfunctions_impl.py:1215: RuntimeWarning: Mean of empty slice\n",
      "  return np.nanmean(a, axis, out=out, keepdims=keepdims)\n",
      "d:\\MTech Courses\\Sem 2\\CS661\\Project\\.venv\\lib\\site-packages\\numpy\\lib\\_nanfunctions_impl.py:1215: RuntimeWarning: Mean of empty slice\n",
      "  return np.nanmean(a, axis, out=out, keepdims=keepdims)\n",
      "d:\\MTech Courses\\Sem 2\\CS661\\Project\\.venv\\lib\\site-packages\\numpy\\lib\\_nanfunctions_impl.py:1215: RuntimeWarning: Mean of empty slice\n",
      "  return np.nanmean(a, axis, out=out, keepdims=keepdims)\n",
      "d:\\MTech Courses\\Sem 2\\CS661\\Project\\.venv\\lib\\site-packages\\numpy\\lib\\_nanfunctions_impl.py:1215: RuntimeWarning: Mean of empty slice\n",
      "  return np.nanmean(a, axis, out=out, keepdims=keepdims)\n",
      "d:\\MTech Courses\\Sem 2\\CS661\\Project\\.venv\\lib\\site-packages\\numpy\\lib\\_nanfunctions_impl.py:1215: RuntimeWarning: Mean of empty slice\n",
      "  return np.nanmean(a, axis, out=out, keepdims=keepdims)\n",
      "d:\\MTech Courses\\Sem 2\\CS661\\Project\\.venv\\lib\\site-packages\\numpy\\lib\\_nanfunctions_impl.py:1215: RuntimeWarning: Mean of empty slice\n",
      "  return np.nanmean(a, axis, out=out, keepdims=keepdims)\n",
      "d:\\MTech Courses\\Sem 2\\CS661\\Project\\.venv\\lib\\site-packages\\numpy\\lib\\_nanfunctions_impl.py:1215: RuntimeWarning: Mean of empty slice\n",
      "  return np.nanmean(a, axis, out=out, keepdims=keepdims)\n",
      "d:\\MTech Courses\\Sem 2\\CS661\\Project\\.venv\\lib\\site-packages\\numpy\\lib\\_nanfunctions_impl.py:1215: RuntimeWarning: Mean of empty slice\n",
      "  return np.nanmean(a, axis, out=out, keepdims=keepdims)\n",
      "d:\\MTech Courses\\Sem 2\\CS661\\Project\\.venv\\lib\\site-packages\\numpy\\lib\\_nanfunctions_impl.py:1215: RuntimeWarning: Mean of empty slice\n",
      "  return np.nanmean(a, axis, out=out, keepdims=keepdims)\n",
      "d:\\MTech Courses\\Sem 2\\CS661\\Project\\.venv\\lib\\site-packages\\numpy\\lib\\_nanfunctions_impl.py:1215: RuntimeWarning: Mean of empty slice\n",
      "  return np.nanmean(a, axis, out=out, keepdims=keepdims)\n",
      "d:\\MTech Courses\\Sem 2\\CS661\\Project\\.venv\\lib\\site-packages\\numpy\\lib\\_nanfunctions_impl.py:1215: RuntimeWarning: Mean of empty slice\n",
      "  return np.nanmean(a, axis, out=out, keepdims=keepdims)\n",
      "d:\\MTech Courses\\Sem 2\\CS661\\Project\\.venv\\lib\\site-packages\\numpy\\lib\\_nanfunctions_impl.py:1215: RuntimeWarning: Mean of empty slice\n",
      "  return np.nanmean(a, axis, out=out, keepdims=keepdims)\n",
      "d:\\MTech Courses\\Sem 2\\CS661\\Project\\.venv\\lib\\site-packages\\numpy\\lib\\_nanfunctions_impl.py:1215: RuntimeWarning: Mean of empty slice\n",
      "  return np.nanmean(a, axis, out=out, keepdims=keepdims)\n",
      "d:\\MTech Courses\\Sem 2\\CS661\\Project\\.venv\\lib\\site-packages\\numpy\\lib\\_nanfunctions_impl.py:1215: RuntimeWarning: Mean of empty slice\n",
      "  return np.nanmean(a, axis, out=out, keepdims=keepdims)\n",
      "d:\\MTech Courses\\Sem 2\\CS661\\Project\\.venv\\lib\\site-packages\\numpy\\lib\\_nanfunctions_impl.py:1215: RuntimeWarning: Mean of empty slice\n",
      "  return np.nanmean(a, axis, out=out, keepdims=keepdims)\n",
      "d:\\MTech Courses\\Sem 2\\CS661\\Project\\.venv\\lib\\site-packages\\numpy\\lib\\_nanfunctions_impl.py:1215: RuntimeWarning: Mean of empty slice\n",
      "  return np.nanmean(a, axis, out=out, keepdims=keepdims)\n",
      "d:\\MTech Courses\\Sem 2\\CS661\\Project\\.venv\\lib\\site-packages\\numpy\\lib\\_nanfunctions_impl.py:1215: RuntimeWarning: Mean of empty slice\n",
      "  return np.nanmean(a, axis, out=out, keepdims=keepdims)\n",
      "d:\\MTech Courses\\Sem 2\\CS661\\Project\\.venv\\lib\\site-packages\\numpy\\lib\\_nanfunctions_impl.py:1215: RuntimeWarning: Mean of empty slice\n",
      "  return np.nanmean(a, axis, out=out, keepdims=keepdims)\n",
      "d:\\MTech Courses\\Sem 2\\CS661\\Project\\.venv\\lib\\site-packages\\numpy\\lib\\_nanfunctions_impl.py:1215: RuntimeWarning: Mean of empty slice\n",
      "  return np.nanmean(a, axis, out=out, keepdims=keepdims)\n",
      "d:\\MTech Courses\\Sem 2\\CS661\\Project\\.venv\\lib\\site-packages\\numpy\\lib\\_nanfunctions_impl.py:1215: RuntimeWarning: Mean of empty slice\n",
      "  return np.nanmean(a, axis, out=out, keepdims=keepdims)\n",
      "d:\\MTech Courses\\Sem 2\\CS661\\Project\\.venv\\lib\\site-packages\\numpy\\lib\\_nanfunctions_impl.py:1215: RuntimeWarning: Mean of empty slice\n",
      "  return np.nanmean(a, axis, out=out, keepdims=keepdims)\n",
      "d:\\MTech Courses\\Sem 2\\CS661\\Project\\.venv\\lib\\site-packages\\numpy\\lib\\_nanfunctions_impl.py:1215: RuntimeWarning: Mean of empty slice\n",
      "  return np.nanmean(a, axis, out=out, keepdims=keepdims)\n",
      "d:\\MTech Courses\\Sem 2\\CS661\\Project\\.venv\\lib\\site-packages\\numpy\\lib\\_nanfunctions_impl.py:1215: RuntimeWarning: Mean of empty slice\n",
      "  return np.nanmean(a, axis, out=out, keepdims=keepdims)\n",
      "d:\\MTech Courses\\Sem 2\\CS661\\Project\\.venv\\lib\\site-packages\\numpy\\lib\\_nanfunctions_impl.py:1215: RuntimeWarning: Mean of empty slice\n",
      "  return np.nanmean(a, axis, out=out, keepdims=keepdims)\n",
      "d:\\MTech Courses\\Sem 2\\CS661\\Project\\.venv\\lib\\site-packages\\numpy\\lib\\_nanfunctions_impl.py:1215: RuntimeWarning: Mean of empty slice\n",
      "  return np.nanmean(a, axis, out=out, keepdims=keepdims)\n",
      "d:\\MTech Courses\\Sem 2\\CS661\\Project\\.venv\\lib\\site-packages\\numpy\\lib\\_nanfunctions_impl.py:1215: RuntimeWarning: Mean of empty slice\n",
      "  return np.nanmean(a, axis, out=out, keepdims=keepdims)\n",
      "d:\\MTech Courses\\Sem 2\\CS661\\Project\\.venv\\lib\\site-packages\\numpy\\lib\\_nanfunctions_impl.py:1215: RuntimeWarning: Mean of empty slice\n",
      "  return np.nanmean(a, axis, out=out, keepdims=keepdims)\n",
      "d:\\MTech Courses\\Sem 2\\CS661\\Project\\.venv\\lib\\site-packages\\numpy\\lib\\_nanfunctions_impl.py:1215: RuntimeWarning: Mean of empty slice\n",
      "  return np.nanmean(a, axis, out=out, keepdims=keepdims)\n",
      "d:\\MTech Courses\\Sem 2\\CS661\\Project\\.venv\\lib\\site-packages\\numpy\\lib\\_nanfunctions_impl.py:1215: RuntimeWarning: Mean of empty slice\n",
      "  return np.nanmean(a, axis, out=out, keepdims=keepdims)\n",
      "d:\\MTech Courses\\Sem 2\\CS661\\Project\\.venv\\lib\\site-packages\\numpy\\lib\\_nanfunctions_impl.py:1215: RuntimeWarning: Mean of empty slice\n",
      "  return np.nanmean(a, axis, out=out, keepdims=keepdims)\n",
      "d:\\MTech Courses\\Sem 2\\CS661\\Project\\.venv\\lib\\site-packages\\numpy\\lib\\_nanfunctions_impl.py:1215: RuntimeWarning: Mean of empty slice\n",
      "  return np.nanmean(a, axis, out=out, keepdims=keepdims)\n",
      "d:\\MTech Courses\\Sem 2\\CS661\\Project\\.venv\\lib\\site-packages\\numpy\\lib\\_nanfunctions_impl.py:1215: RuntimeWarning: Mean of empty slice\n",
      "  return np.nanmean(a, axis, out=out, keepdims=keepdims)\n",
      "d:\\MTech Courses\\Sem 2\\CS661\\Project\\.venv\\lib\\site-packages\\numpy\\lib\\_nanfunctions_impl.py:1215: RuntimeWarning: Mean of empty slice\n",
      "  return np.nanmean(a, axis, out=out, keepdims=keepdims)\n",
      "d:\\MTech Courses\\Sem 2\\CS661\\Project\\.venv\\lib\\site-packages\\numpy\\lib\\_nanfunctions_impl.py:1215: RuntimeWarning: Mean of empty slice\n",
      "  return np.nanmean(a, axis, out=out, keepdims=keepdims)\n",
      "d:\\MTech Courses\\Sem 2\\CS661\\Project\\.venv\\lib\\site-packages\\numpy\\lib\\_nanfunctions_impl.py:1215: RuntimeWarning: Mean of empty slice\n",
      "  return np.nanmean(a, axis, out=out, keepdims=keepdims)\n",
      "d:\\MTech Courses\\Sem 2\\CS661\\Project\\.venv\\lib\\site-packages\\numpy\\lib\\_nanfunctions_impl.py:1215: RuntimeWarning: Mean of empty slice\n",
      "  return np.nanmean(a, axis, out=out, keepdims=keepdims)\n",
      "d:\\MTech Courses\\Sem 2\\CS661\\Project\\.venv\\lib\\site-packages\\numpy\\lib\\_nanfunctions_impl.py:1215: RuntimeWarning: Mean of empty slice\n",
      "  return np.nanmean(a, axis, out=out, keepdims=keepdims)\n",
      "d:\\MTech Courses\\Sem 2\\CS661\\Project\\.venv\\lib\\site-packages\\numpy\\lib\\_nanfunctions_impl.py:1215: RuntimeWarning: Mean of empty slice\n",
      "  return np.nanmean(a, axis, out=out, keepdims=keepdims)\n",
      "d:\\MTech Courses\\Sem 2\\CS661\\Project\\.venv\\lib\\site-packages\\numpy\\lib\\_nanfunctions_impl.py:1215: RuntimeWarning: Mean of empty slice\n",
      "  return np.nanmean(a, axis, out=out, keepdims=keepdims)\n",
      "d:\\MTech Courses\\Sem 2\\CS661\\Project\\.venv\\lib\\site-packages\\numpy\\lib\\_nanfunctions_impl.py:1215: RuntimeWarning: Mean of empty slice\n",
      "  return np.nanmean(a, axis, out=out, keepdims=keepdims)\n",
      "d:\\MTech Courses\\Sem 2\\CS661\\Project\\.venv\\lib\\site-packages\\numpy\\lib\\_nanfunctions_impl.py:1215: RuntimeWarning: Mean of empty slice\n",
      "  return np.nanmean(a, axis, out=out, keepdims=keepdims)\n",
      "d:\\MTech Courses\\Sem 2\\CS661\\Project\\.venv\\lib\\site-packages\\numpy\\lib\\_nanfunctions_impl.py:1215: RuntimeWarning: Mean of empty slice\n",
      "  return np.nanmean(a, axis, out=out, keepdims=keepdims)\n",
      "d:\\MTech Courses\\Sem 2\\CS661\\Project\\.venv\\lib\\site-packages\\numpy\\lib\\_nanfunctions_impl.py:1215: RuntimeWarning: Mean of empty slice\n",
      "  return np.nanmean(a, axis, out=out, keepdims=keepdims)\n",
      "d:\\MTech Courses\\Sem 2\\CS661\\Project\\.venv\\lib\\site-packages\\numpy\\lib\\_nanfunctions_impl.py:1215: RuntimeWarning: Mean of empty slice\n",
      "  return np.nanmean(a, axis, out=out, keepdims=keepdims)\n",
      "d:\\MTech Courses\\Sem 2\\CS661\\Project\\.venv\\lib\\site-packages\\numpy\\lib\\_nanfunctions_impl.py:1215: RuntimeWarning: Mean of empty slice\n",
      "  return np.nanmean(a, axis, out=out, keepdims=keepdims)\n",
      "d:\\MTech Courses\\Sem 2\\CS661\\Project\\.venv\\lib\\site-packages\\numpy\\lib\\_nanfunctions_impl.py:1215: RuntimeWarning: Mean of empty slice\n",
      "  return np.nanmean(a, axis, out=out, keepdims=keepdims)\n"
     ]
    }
   ],
   "source": [
    "# Fill 'new_tests' using 7-day moving average (best for fluctuating daily data)\n",
    "# testing['new_tests'] = testing.groupby('country')['new_tests'].transform(lambda x: x.fillna(x.rolling(7, min_periods=1).mean()))\n",
    "testing['new_tests'] = testing.groupby('country')['new_tests'].transform(lambda x: x.fillna(x.median()))\n",
    "\n",
    "# Fill 'new_tests_per_thousand' using per-country median (robust to outliers)\n",
    "testing['new_tests_per_thousand'] = testing.groupby('country')['new_tests_per_thousand'].transform(lambda x: x.fillna(x.median()))\n",
    "\n",
    "# Fill 'total_tests' using forward-fill (best for cumulative values)\n",
    "testing['total_tests'] = testing.groupby('country')['total_tests'].ffill()\n",
    "\n",
    "# Drop countries with more than 50% missing values (final cleanup)\n",
    "testing = testing.dropna(subset=['new_tests', 'new_tests_per_thousand', 'total_tests'])\n"
   ]
  },
  {
   "cell_type": "markdown",
   "metadata": {},
   "source": [
    "vaccinations_global.csv"
   ]
  },
  {
   "cell_type": "code",
   "execution_count": 52,
   "metadata": {},
   "outputs": [],
   "source": [
    "vaccinations_global = pd.read_csv(\"Datasets\\\\vaccinations_global.csv\")"
   ]
  },
  {
   "cell_type": "code",
   "execution_count": 67,
   "metadata": {},
   "outputs": [
    {
     "name": "stdout",
     "output_type": "stream",
     "text": [
      "<class 'pandas.core.frame.DataFrame'>\n",
      "Index: 197566 entries, 0 to 203056\n",
      "Data columns (total 8 columns):\n",
      " #   Column                                        Non-Null Count   Dtype         \n",
      "---  ------                                        --------------   -----         \n",
      " 0   country                                       197566 non-null  object        \n",
      " 1   date                                          197566 non-null  datetime64[ns]\n",
      " 2   people_vaccinated_per_hundred                 197566 non-null  float64       \n",
      " 3   people_fully_vaccinated_per_hundred           197566 non-null  float64       \n",
      " 4   total_boosters_per_hundred                    197566 non-null  float64       \n",
      " 5   daily_people_vaccinated_smoothed_per_hundred  197565 non-null  float64       \n",
      " 6   rolling_vaccinations_6m_per_hundred           197565 non-null  float64       \n",
      " 7   rolling_vaccinations_12m_per_hundred          197565 non-null  float64       \n",
      "dtypes: datetime64[ns](1), float64(6), object(1)\n",
      "memory usage: 13.6+ MB\n"
     ]
    }
   ],
   "source": [
    "vaccinations_global.info()"
   ]
  },
  {
   "cell_type": "code",
   "execution_count": 54,
   "metadata": {},
   "outputs": [],
   "source": [
    "# country = To merge datasets.\n",
    "# date = To track vaccinations over time.\n",
    "# people_vaccinated_per_hundred = To see if vaccination increased mobility.\n",
    "# people_fully_vaccinated_per_hundred = Compare mobility before/after full vaccination.\n",
    "# total_boosters_per_hundred = Booster doses effect on mobility.\n",
    "# daily_people_vaccinated_smoothed_per_hundred = Smoothed data for better analysis.\n",
    "# rolling_vaccinations_6m_per_hundred = To check if vaccinations affected mobility.\n",
    "# rolling_vaccinations_12m_per_hundred = To check if vaccinations affected mobility.\n",
    "vaccinations_global = vaccinations_global.drop(columns=[\n",
    "    'total_vaccinations', 'people_vaccinated', 'people_fully_vaccinated', 'total_boosters', 'daily_vaccinations', 'daily_vaccinations_smoothed',\n",
    "    'daily_people_vaccinated_smoothed', 'total_vaccinations_per_hundred', 'daily_vaccinations_smoothed_per_million', 'people_unvaccinated',\n",
    "    'share_of_boosters', 'total_vaccinations_interpolated', 'people_vaccinated_interpolated', 'people_fully_vaccinated_interpolated',\n",
    "    'total_boosters_interpolated', 'total_vaccinations_no_boosters_interpolated', 'total_vaccinations_no_boosters_per_hundred_interpolated',\n",
    "    'rolling_vaccinations_6m', 'rolling_vaccinations_9m', 'rolling_vaccinations_9m_per_hundred', 'rolling_vaccinations_12m'\n",
    "])"
   ]
  },
  {
   "cell_type": "code",
   "execution_count": 66,
   "metadata": {},
   "outputs": [],
   "source": [
    "vaccinations_global[\"date\"] = pd.to_datetime(vaccinations_global[\"date\"])\n",
    "vaccinations_global = vaccinations_global[(vaccinations_global['date'].dt.year < 2024)]\n",
    "\n",
    "vaccinations_global[\"daily_people_vaccinated_smoothed_per_hundred\"] = vaccinations_global[\"daily_people_vaccinated_smoothed_per_hundred\"].ffill()\n",
    "vaccinations_global[\"rolling_vaccinations_6m_per_hundred\"] = vaccinations_global[\"rolling_vaccinations_6m_per_hundred\"].ffill()\n",
    "vaccinations_global[\"rolling_vaccinations_12m_per_hundred\"] = vaccinations_global[\"rolling_vaccinations_12m_per_hundred\"].ffill()\n",
    "\n",
    "vaccinations_global[\"total_boosters_per_hundred\"] = vaccinations_global[\"total_boosters_per_hundred\"].fillna(0)\n",
    "vaccinations_global[\"people_vaccinated_per_hundred\"] = vaccinations_global[\"people_vaccinated_per_hundred\"].fillna(0)\n",
    "vaccinations_global[\"people_fully_vaccinated_per_hundred\"] = vaccinations_global[\"people_fully_vaccinated_per_hundred\"].fillna(0)"
   ]
  },
  {
   "cell_type": "markdown",
   "metadata": {},
   "source": [
    "I'll use outer join to merge the datasets because sone datasets might not have date column with appropriate values.\n",
    "Outer merge keeps all the values and fill smissing values with NaN."
   ]
  },
  {
   "cell_type": "code",
   "execution_count": 68,
   "metadata": {},
   "outputs": [],
   "source": [
    "# Ensuring mobility trends align with case/death counts.\n",
    "merged_df = google_mobility.merge(spread, on=['country', 'date'], how='outer')\n",
    "\n",
    "# Adding testing trends, ensuring proper alignment.\n",
    "merged_df = merged_df.merge(testing, on=['country', 'date'], how='outer')\n",
    "\n",
    "# Adding vaccination progress over time.\n",
    "merged_df = merged_df.merge(vaccinations_global, on=['country', 'date'], how='outer')\n",
    "\n",
    "# Ensuring we capture policy impact on mobility.\n",
    "merged_df = merged_df.merge(oxcgrt_policy, on=['country', 'date'], how='outer')\n",
    "\n",
    "# Adding geolocation data, useful for mapping visualizations.\n",
    "merged_df = merged_df.merge(countries, on='country', how='left')\n"
   ]
  },
  {
   "cell_type": "code",
   "execution_count": 76,
   "metadata": {},
   "outputs": [
    {
     "name": "stdout",
     "output_type": "stream",
     "text": [
      "<class 'pandas.core.frame.DataFrame'>\n",
      "Index: 1014438 entries, 0 to 1023188\n",
      "Data columns (total 35 columns):\n",
      " #   Column                                        Non-Null Count    Dtype         \n",
      "---  ------                                        --------------    -----         \n",
      " 0   country                                       1014438 non-null  object        \n",
      " 1   date                                          1014438 non-null  datetime64[ns]\n",
      " 2   trend                                         1014438 non-null  float64       \n",
      " 3   new_cases                                     1014438 non-null  float64       \n",
      " 4   new_deaths                                    1014438 non-null  float64       \n",
      " 5   new_cases_per_million                         1014438 non-null  float64       \n",
      " 6   total_cases_per_million                       1014438 non-null  float64       \n",
      " 7   new_deaths_per_million                        1014438 non-null  float64       \n",
      " 8   total_deaths_per_million                      1014438 non-null  float64       \n",
      " 9   total_tests                                   1014438 non-null  float64       \n",
      " 10  new_tests                                     1014438 non-null  float64       \n",
      " 11  new_tests_per_thousand                        1014438 non-null  float64       \n",
      " 12  people_vaccinated_per_hundred                 1014438 non-null  float64       \n",
      " 13  people_fully_vaccinated_per_hundred           1014438 non-null  float64       \n",
      " 14  total_boosters_per_hundred                    1014438 non-null  float64       \n",
      " 15  daily_people_vaccinated_smoothed_per_hundred  1014438 non-null  float64       \n",
      " 16  rolling_vaccinations_6m_per_hundred           1014438 non-null  float64       \n",
      " 17  rolling_vaccinations_12m_per_hundred          1014438 non-null  float64       \n",
      " 18  c1m_school_closing                            1014438 non-null  float64       \n",
      " 19  c2m_workplace_closing                         1014438 non-null  float64       \n",
      " 20  c3m_cancel_public_events                      1014438 non-null  float64       \n",
      " 21  c4m_restrictions_on_gatherings                1014438 non-null  float64       \n",
      " 22  c5m_close_public_transport                    1014438 non-null  float64       \n",
      " 23  c6m_stay_at_home_requirements                 1014438 non-null  float64       \n",
      " 24  c7m_restrictions_on_internal_movement         1014438 non-null  float64       \n",
      " 25  c8ev_international_travel_controls            1014438 non-null  float64       \n",
      " 26  stringency_index                              1014438 non-null  float64       \n",
      " 27  containment_health_index                      1014438 non-null  float64       \n",
      " 28  stringency_index_nonvax                       1014438 non-null  float64       \n",
      " 29  stringency_index_vax                          1014438 non-null  float64       \n",
      " 30  stringency_index_weighted_average             1014438 non-null  float64       \n",
      " 31  isocode                                       1014438 non-null  object        \n",
      " 32  latitude                                      1014438 non-null  float64       \n",
      " 33  longitude                                     1014438 non-null  float64       \n",
      " 34  continent                                     1014438 non-null  object        \n",
      "dtypes: datetime64[ns](1), float64(31), object(3)\n",
      "memory usage: 278.6+ MB\n"
     ]
    }
   ],
   "source": [
    "merged_df.info()"
   ]
  },
  {
   "cell_type": "code",
   "execution_count": 70,
   "metadata": {},
   "outputs": [
    {
     "name": "stderr",
     "output_type": "stream",
     "text": [
      "C:\\Users\\Rovish\\AppData\\Local\\Temp\\ipykernel_10328\\2722038149.py:5: FutureWarning: DataFrame.fillna with 'method' is deprecated and will raise in a future version. Use obj.ffill() or obj.bfill() instead.\n",
      "  merged_df.fillna(method='ffill', inplace=True)  # Fill using previous values\n",
      "C:\\Users\\Rovish\\AppData\\Local\\Temp\\ipykernel_10328\\2722038149.py:6: FutureWarning: DataFrame.fillna with 'method' is deprecated and will raise in a future version. Use obj.ffill() or obj.bfill() instead.\n",
      "  merged_df.fillna(method='bfill', inplace=True)  # Fill using next values\n"
     ]
    }
   ],
   "source": [
    "# Fill missing trend (mobility) data with 0 (assuming no mobility change if missing)\n",
    "# merged_df['trend'].ffill(inplace=True)  # Fill using previous values\n",
    "\n",
    "# Fill missing numerical values with forward-fill (ffill) and backward-fill (bfill)\n",
    "merged_df.fillna(method='ffill', inplace=True)  # Fill using previous values\n",
    "merged_df.fillna(method='bfill', inplace=True)  # Fill using next values\n",
    "\n",
    "# If some values are still missing, fill with 0 (final fallback)\n",
    "merged_df.fillna(0, inplace=True)"
   ]
  },
  {
   "cell_type": "code",
   "execution_count": 72,
   "metadata": {},
   "outputs": [],
   "source": [
    "import pycountry_convert as pc\n",
    "\n",
    "def country_to_continent(country_name):\n",
    "    try:\n",
    "        country_code = pc.country_name_to_country_alpha2(country_name)\n",
    "        continent_code = pc.country_alpha2_to_continent_code(country_code)\n",
    "        continent_mapping = {\n",
    "            \"NA\": \"North America\",\n",
    "            \"SA\": \"South America\",\n",
    "            \"EU\": \"Europe\",\n",
    "            \"AF\": \"Africa\",\n",
    "            \"AS\": \"Asia\",\n",
    "            \"OC\": \"Oceania\"\n",
    "        }\n",
    "        return continent_mapping.get(continent_code, \"Unknown\")\n",
    "    except:\n",
    "        return \"Unknown\"\n",
    "\n",
    "merged_df[\"continent\"] = merged_df[\"country\"].apply(country_to_continent)"
   ]
  },
  {
   "cell_type": "code",
   "execution_count": 74,
   "metadata": {},
   "outputs": [
    {
     "name": "stdout",
     "output_type": "stream",
     "text": [
      "                                   country continent\n",
      "6106                                Africa   Unknown\n",
      "6107                                Africa   Unknown\n",
      "6108                                Africa   Unknown\n",
      "6109                                Africa   Unknown\n",
      "6110                                Africa   Unknown\n",
      "...                                    ...       ...\n",
      "1004191  World excl. China and South Korea   Unknown\n",
      "1004192  World excl. China and South Korea   Unknown\n",
      "1004193  World excl. China and South Korea   Unknown\n",
      "1004194  World excl. China and South Korea   Unknown\n",
      "1004195  World excl. China and South Korea   Unknown\n",
      "\n",
      "[51114 rows x 2 columns]\n",
      "dict_keys(['Africa', 'Asia', 'Asia excl. China', 'Bonaire Sint Eustatius and Saba', \"Cote d'Ivoire\", 'Curacao', 'Democratic Republic of Congo', 'East Timor', 'Europe', 'European Union (27)', 'High-income countries', 'Kosovo', 'Low-income countries', 'Lower-middle-income countries', 'Micronesia (country)', 'North America', 'Oceania', 'Pitcairn', 'Reunion', 'Saint Barthelemy', 'Saint Helena', 'Sint Maarten (Dutch part)', 'South America', 'Upper-middle-income countries', 'Vatican', 'World', 'World excl. China', 'World excl. China South Korea Japan and Singapore', 'World excl. China and South Korea'])\n"
     ]
    }
   ],
   "source": [
    "print(merged_df[[\"country\", \"continent\"]][merged_df[\"continent\"] == \"Unknown\"])\n",
    "new = merged_df[[\"country\", \"continent\"]][merged_df[\"continent\"] == \"Unknown\"].groupby(\"country\")\n",
    "print(new.groups.keys())"
   ]
  },
  {
   "cell_type": "code",
   "execution_count": 75,
   "metadata": {},
   "outputs": [],
   "source": [
    "region_mapping = {\n",
    "    \"Africa\": \"Africa\",\n",
    "    \"Europe\": \"Europe\",\n",
    "    \"Asia\": \"Asia\",\n",
    "    \"South America\": \"South America\",\n",
    "    \"North America\": \"North America\",\n",
    "    \"Oceania\": \"Oceania\",\n",
    "    # Special Cases\n",
    "    \"Cote d'Ivoire\": \"Africa\",\n",
    "    \"Democratic Republic of Congo\": \"Africa\",\n",
    "    \"Micronesia (country)\": \"Oceania\",\n",
    "    \"Sint Maarten (Dutch part)\": \"North America\",\n",
    "    \"Bonaire Sint Eustatius and Saba\": \"North America\",\n",
    "    \"Curacao\": \"North America\",\n",
    "    \"Reunion\": \"Africa\",\n",
    "    \"Saint Barthelemy\": \"North America\",\n",
    "    \"Saint Helena\": \"Africa\",\n",
    "    \"Pitcairn\": \"Oceania\",\n",
    "    \"Vatican\": \"Europe\",\n",
    "    \"East Timor\": \"Asia\",\n",
    "}\n",
    "merged_df.loc[merged_df[\"country\"].isin(region_mapping.keys()), \"continent\"] = merged_df[\"country\"].map(region_mapping)\n",
    "merged_df.loc[merged_df[\"country\"].str.contains(\"World\", case=False, na=False), \"continent\"] = \"Global\"\n",
    "merged_df.loc[merged_df[\"country\"].str.contains(\"Asia\", case=False, na=False), \"continent\"] = \"Asia\"\n",
    "\n",
    "non_countries = [\n",
    "    \"European Union (27)\", \"High-income countries\", \"Low-income countries\",\n",
    "    \"Lower-middle-income countries\", \"Upper-middle-income countries\", \"Kosovo\"\n",
    "]\n",
    "\n",
    "merged_df = merged_df[~merged_df[\"country\"].isin(non_countries)]"
   ]
  },
  {
   "cell_type": "code",
   "execution_count": 77,
   "metadata": {},
   "outputs": [],
   "source": [
    "merged_df.to_csv(\"final_data.csv\", index=False)"
   ]
  },
  {
   "cell_type": "code",
   "execution_count": null,
   "metadata": {},
   "outputs": [],
   "source": []
  }
 ],
 "metadata": {
  "kernelspec": {
   "display_name": ".venv",
   "language": "python",
   "name": "python3"
  },
  "language_info": {
   "codemirror_mode": {
    "name": "ipython",
    "version": 3
   },
   "file_extension": ".py",
   "mimetype": "text/x-python",
   "name": "python",
   "nbconvert_exporter": "python",
   "pygments_lexer": "ipython3",
   "version": "3.10.11"
  }
 },
 "nbformat": 4,
 "nbformat_minor": 2
}
